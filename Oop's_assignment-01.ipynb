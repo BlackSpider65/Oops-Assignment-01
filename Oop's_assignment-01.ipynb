{
 "cells": [
  {
   "cell_type": "markdown",
   "id": "fa3f03b6",
   "metadata": {},
   "source": [
    "### Question no:- 01"
   ]
  },
  {
   "cell_type": "code",
   "execution_count": 1,
   "id": "f710300f",
   "metadata": {},
   "outputs": [],
   "source": [
    "class vehicle:\n",
    "    def __init__(self, name_of_vehicle, max_speed, average_of_vehicle):\n",
    "        self.vehicle_name = name_of_vehicle\n",
    "        self.max_speed = max_speed\n",
    "        self.vehicle_average = average_of_vehicle"
   ]
  },
  {
   "cell_type": "code",
   "execution_count": 2,
   "id": "16f18a5f",
   "metadata": {},
   "outputs": [],
   "source": [
    "vehicle_object = vehicle('hero', 120, 75)"
   ]
  },
  {
   "cell_type": "code",
   "execution_count": 4,
   "id": "5f92bce2",
   "metadata": {},
   "outputs": [
    {
     "data": {
      "text/plain": [
       "'hero'"
      ]
     },
     "execution_count": 4,
     "metadata": {},
     "output_type": "execute_result"
    }
   ],
   "source": [
    "vehicle_object.vehicle_name"
   ]
  },
  {
   "cell_type": "code",
   "execution_count": 5,
   "id": "00b38ec6",
   "metadata": {},
   "outputs": [
    {
     "data": {
      "text/plain": [
       "120"
      ]
     },
     "execution_count": 5,
     "metadata": {},
     "output_type": "execute_result"
    }
   ],
   "source": [
    "vehicle_object.max_speed"
   ]
  },
  {
   "cell_type": "code",
   "execution_count": 6,
   "id": "e3f61612",
   "metadata": {},
   "outputs": [
    {
     "data": {
      "text/plain": [
       "75"
      ]
     },
     "execution_count": 6,
     "metadata": {},
     "output_type": "execute_result"
    }
   ],
   "source": [
    "vehicle_object.vehicle_average"
   ]
  },
  {
   "cell_type": "markdown",
   "id": "d263fbf8",
   "metadata": {},
   "source": [
    "### Question no :- 02"
   ]
  },
  {
   "cell_type": "code",
   "execution_count": 13,
   "id": "43238461",
   "metadata": {},
   "outputs": [],
   "source": [
    "class child_car(vehicle):\n",
    "    def  seating_capacity(self, capacity):\n",
    "        self.seating_capacity = capacity\n",
    "        return  self.seating_capacity"
   ]
  },
  {
   "cell_type": "code",
   "execution_count": 14,
   "id": "dda35e66",
   "metadata": {},
   "outputs": [],
   "source": [
    "child_car_object = child_car('car', 145, 100)"
   ]
  },
  {
   "cell_type": "code",
   "execution_count": 15,
   "id": "111327bc",
   "metadata": {},
   "outputs": [
    {
     "data": {
      "text/plain": [
       "10"
      ]
     },
     "execution_count": 15,
     "metadata": {},
     "output_type": "execute_result"
    }
   ],
   "source": [
    "child_car_object.seating_capacity(10)"
   ]
  },
  {
   "cell_type": "code",
   "execution_count": 16,
   "id": "15c8a28e",
   "metadata": {},
   "outputs": [
    {
     "data": {
      "text/plain": [
       "'car'"
      ]
     },
     "execution_count": 16,
     "metadata": {},
     "output_type": "execute_result"
    }
   ],
   "source": [
    "child_car_object.vehicle_name"
   ]
  },
  {
   "cell_type": "markdown",
   "id": "4a5c4635",
   "metadata": {},
   "source": [
    "### Question no :- 03"
   ]
  },
  {
   "cell_type": "markdown",
   "id": "b777c934",
   "metadata": {},
   "source": [
    "###### Multiple inheritance is a feature in object-oriented programming languages that allows a class to inherit properties and behaviors from multiple parent classes."
   ]
  },
  {
   "cell_type": "code",
   "execution_count": 17,
   "id": "b85772da",
   "metadata": {},
   "outputs": [],
   "source": [
    "class math:\n",
    "    def math_test(self):\n",
    "        return 'these function is represented the math class'"
   ]
  },
  {
   "cell_type": "code",
   "execution_count": 18,
   "id": "4fd55294",
   "metadata": {},
   "outputs": [],
   "source": [
    "class physics:\n",
    "    def physics_test(self):\n",
    "        return 'these function is represent the physics class'"
   ]
  },
  {
   "cell_type": "code",
   "execution_count": 19,
   "id": "b04e2265",
   "metadata": {},
   "outputs": [],
   "source": [
    "class science(math, physics):\n",
    "    pass"
   ]
  },
  {
   "cell_type": "code",
   "execution_count": 20,
   "id": "c8855055",
   "metadata": {},
   "outputs": [],
   "source": [
    "science_object = science()"
   ]
  },
  {
   "cell_type": "code",
   "execution_count": 21,
   "id": "121bfad8",
   "metadata": {},
   "outputs": [
    {
     "data": {
      "text/plain": [
       "'these function is represent the physics class'"
      ]
     },
     "execution_count": 21,
     "metadata": {},
     "output_type": "execute_result"
    }
   ],
   "source": [
    "science_object.physics_test()"
   ]
  },
  {
   "cell_type": "code",
   "execution_count": 22,
   "id": "f759e299",
   "metadata": {},
   "outputs": [
    {
     "data": {
      "text/plain": [
       "'these function is represented the math class'"
      ]
     },
     "execution_count": 22,
     "metadata": {},
     "output_type": "execute_result"
    }
   ],
   "source": [
    "science_object.math_test()"
   ]
  },
  {
   "cell_type": "markdown",
   "id": "186f95ef",
   "metadata": {},
   "source": [
    "### Question no :- 04"
   ]
  },
  {
   "cell_type": "markdown",
   "id": "f1f1151b",
   "metadata": {},
   "source": [
    "###### getter and setter methods are used to access and modify the attributes (instance variables) of a class in a controlled manner. They provide an interface to retrieve and set the values of the attributes while encapsulating the underlying implementation details."
   ]
  },
  {
   "cell_type": "code",
   "execution_count": 23,
   "id": "d0140557",
   "metadata": {},
   "outputs": [],
   "source": [
    "# Example\n",
    "\n",
    "class person:\n",
    "     \n",
    "        def __init__(self,name):\n",
    "            self.name = name\n",
    "            \n",
    "        def get_name(self):\n",
    "            return self.name\n",
    "        \n",
    "        def set_name(self, name):\n",
    "            self.name = name"
   ]
  },
  {
   "cell_type": "code",
   "execution_count": 25,
   "id": "fce79581",
   "metadata": {},
   "outputs": [],
   "source": [
    "person_object = person('vishal')"
   ]
  },
  {
   "cell_type": "code",
   "execution_count": 26,
   "id": "0e0f7a20",
   "metadata": {},
   "outputs": [
    {
     "data": {
      "text/plain": [
       "'vishal'"
      ]
     },
     "execution_count": 26,
     "metadata": {},
     "output_type": "execute_result"
    }
   ],
   "source": [
    "person_object.get_name()"
   ]
  },
  {
   "cell_type": "code",
   "execution_count": 27,
   "id": "659e2bb8",
   "metadata": {},
   "outputs": [],
   "source": [
    "person_object.set_name(\"birjendra\")"
   ]
  },
  {
   "cell_type": "code",
   "execution_count": 28,
   "id": "261d2bc9",
   "metadata": {},
   "outputs": [
    {
     "data": {
      "text/plain": [
       "'birjendra'"
      ]
     },
     "execution_count": 28,
     "metadata": {},
     "output_type": "execute_result"
    }
   ],
   "source": [
    "person_object.get_name()"
   ]
  },
  {
   "cell_type": "markdown",
   "id": "750b2d47",
   "metadata": {},
   "source": [
    "### Question no :- 05"
   ]
  },
  {
   "cell_type": "markdown",
   "id": "c8a30a2c",
   "metadata": {},
   "source": [
    "###### The overridden method in the subclass has the same name and signature as the method in the superclass but provides a different behavior."
   ]
  },
  {
   "cell_type": "code",
   "execution_count": 29,
   "id": "bc017234",
   "metadata": {},
   "outputs": [],
   "source": [
    "class sound:\n",
    "    \n",
    "    def sound_func(self):\n",
    "        return 'these function is return the sound class'"
   ]
  },
  {
   "cell_type": "code",
   "execution_count": 30,
   "id": "6a1eee25",
   "metadata": {},
   "outputs": [],
   "source": [
    "class human(sound):\n",
    "    \n",
    "    def human_func(self):\n",
    "        return \"this function is return the human sound\""
   ]
  },
  {
   "cell_type": "code",
   "execution_count": 31,
   "id": "cc3f91ae",
   "metadata": {},
   "outputs": [],
   "source": [
    "class cat(sound):\n",
    "    \n",
    "    def cat_func(self):\n",
    "        return \"this function is return the cat sound\""
   ]
  },
  {
   "cell_type": "code",
   "execution_count": 32,
   "id": "ab43e4aa",
   "metadata": {},
   "outputs": [],
   "source": [
    "cat_object = cat()"
   ]
  },
  {
   "cell_type": "code",
   "execution_count": 33,
   "id": "5dd4002e",
   "metadata": {},
   "outputs": [
    {
     "data": {
      "text/plain": [
       "'these function is return the sound class'"
      ]
     },
     "execution_count": 33,
     "metadata": {},
     "output_type": "execute_result"
    }
   ],
   "source": [
    "cat_object.sound_func()"
   ]
  },
  {
   "cell_type": "code",
   "execution_count": 40,
   "id": "1c746910",
   "metadata": {},
   "outputs": [],
   "source": [
    "human_object = human()"
   ]
  },
  {
   "cell_type": "code",
   "execution_count": 41,
   "id": "6ec1cc89",
   "metadata": {},
   "outputs": [
    {
     "data": {
      "text/plain": [
       "'these function is return the sound class'"
      ]
     },
     "execution_count": 41,
     "metadata": {},
     "output_type": "execute_result"
    }
   ],
   "source": [
    "human_object.sound_func()"
   ]
  },
  {
   "cell_type": "code",
   "execution_count": null,
   "id": "e78fc15b",
   "metadata": {},
   "outputs": [],
   "source": []
  }
 ],
 "metadata": {
  "kernelspec": {
   "display_name": "Python 3 (ipykernel)",
   "language": "python",
   "name": "python3"
  },
  "language_info": {
   "codemirror_mode": {
    "name": "ipython",
    "version": 3
   },
   "file_extension": ".py",
   "mimetype": "text/x-python",
   "name": "python",
   "nbconvert_exporter": "python",
   "pygments_lexer": "ipython3",
   "version": "3.9.13"
  }
 },
 "nbformat": 4,
 "nbformat_minor": 5
}
